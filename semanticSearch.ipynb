{
 "cells": [
  {
   "cell_type": "code",
   "execution_count": 49,
   "id": "9d615a77",
   "metadata": {
    "scrolled": true
   },
   "outputs": [
    {
     "name": "stdout",
     "output_type": "stream",
     "text": [
      "Collecting chromadb\n",
      "  Obtaining dependency information for chromadb from https://files.pythonhosted.org/packages/7c/cc/8b822be150323492e1d3c2ae46ccd99ddc9841894afdc41c408ffd68918e/chromadb-0.4.22-py3-none-any.whl.metadata\n",
      "  Downloading chromadb-0.4.22-py3-none-any.whl.metadata (7.3 kB)\n",
      "Collecting build>=1.0.3 (from chromadb)\n",
      "  Obtaining dependency information for build>=1.0.3 from https://files.pythonhosted.org/packages/93/dd/b464b728b866aaa62785a609e0dd8c72201d62c5f7c53e7c20f4dceb085f/build-1.0.3-py3-none-any.whl.metadata\n",
      "  Downloading build-1.0.3-py3-none-any.whl.metadata (4.2 kB)\n",
      "Requirement already satisfied: requests>=2.28 in d:\\anaconda3\\lib\\site-packages (from chromadb) (2.31.0)\n",
      "Requirement already satisfied: pydantic>=1.9 in d:\\anaconda3\\lib\\site-packages (from chromadb) (2.5.3)\n",
      "Collecting chroma-hnswlib==0.7.3 (from chromadb)\n",
      "  Obtaining dependency information for chroma-hnswlib==0.7.3 from https://files.pythonhosted.org/packages/d2/32/a91850c7aa8a34f61838913155103808fe90da6f1ea4302731b59e9ba6f2/chroma_hnswlib-0.7.3-cp311-cp311-win_amd64.whl.metadata\n",
      "  Downloading chroma_hnswlib-0.7.3-cp311-cp311-win_amd64.whl.metadata (262 bytes)\n",
      "Collecting fastapi>=0.95.2 (from chromadb)\n",
      "  Obtaining dependency information for fastapi>=0.95.2 from https://files.pythonhosted.org/packages/d4/e0/d5d6482e992a1892f3a9a62f6a9154944ae5b276e7da1cf92faa02e3a107/fastapi-0.108.0-py3-none-any.whl.metadata\n",
      "  Downloading fastapi-0.108.0-py3-none-any.whl.metadata (24 kB)\n",
      "Collecting uvicorn[standard]>=0.18.3 (from chromadb)\n",
      "  Obtaining dependency information for uvicorn[standard]>=0.18.3 from https://files.pythonhosted.org/packages/26/59/fddd9df489fe27f492cc97626e03663fb3b9b6ef7ce8597a7cdc5f2cbbad/uvicorn-0.25.0-py3-none-any.whl.metadata\n",
      "  Downloading uvicorn-0.25.0-py3-none-any.whl.metadata (6.4 kB)\n",
      "Requirement already satisfied: numpy>=1.22.5 in d:\\anaconda3\\lib\\site-packages (from chromadb) (1.24.3)\n",
      "Collecting posthog>=2.4.0 (from chromadb)\n",
      "  Obtaining dependency information for posthog>=2.4.0 from https://files.pythonhosted.org/packages/3b/82/441cb77a43499661228048dcd0d21e0ae3235b442d0f1b9b606e29c2a5ed/posthog-3.1.0-py2.py3-none-any.whl.metadata\n",
      "  Downloading posthog-3.1.0-py2.py3-none-any.whl.metadata (2.0 kB)\n",
      "Requirement already satisfied: typing-extensions>=4.5.0 in d:\\anaconda3\\lib\\site-packages (from chromadb) (4.7.1)\n",
      "Collecting pulsar-client>=3.1.0 (from chromadb)\n",
      "  Obtaining dependency information for pulsar-client>=3.1.0 from https://files.pythonhosted.org/packages/e0/a7/2e8b027576c5fc51b2d3aa2c63e4ffa7a3657d33329b6f075c62b09f7429/pulsar_client-3.4.0-cp311-cp311-win_amd64.whl.metadata\n",
      "  Downloading pulsar_client-3.4.0-cp311-cp311-win_amd64.whl.metadata (1.0 kB)\n",
      "Collecting onnxruntime>=1.14.1 (from chromadb)\n",
      "  Obtaining dependency information for onnxruntime>=1.14.1 from https://files.pythonhosted.org/packages/49/bd/a00f271510098ee62c097ecec663484ff12de632bea1bcaa02ea3679cd03/onnxruntime-1.16.3-cp311-cp311-win_amd64.whl.metadata\n",
      "  Downloading onnxruntime-1.16.3-cp311-cp311-win_amd64.whl.metadata (4.5 kB)\n",
      "Collecting opentelemetry-api>=1.2.0 (from chromadb)\n",
      "  Obtaining dependency information for opentelemetry-api>=1.2.0 from https://files.pythonhosted.org/packages/fc/2e/a8509051aa446783e24ee03d74bd268c07d5d25a8d48686cfcf3429d5d32/opentelemetry_api-1.22.0-py3-none-any.whl.metadata\n",
      "  Downloading opentelemetry_api-1.22.0-py3-none-any.whl.metadata (1.4 kB)\n",
      "Collecting opentelemetry-exporter-otlp-proto-grpc>=1.2.0 (from chromadb)\n",
      "  Obtaining dependency information for opentelemetry-exporter-otlp-proto-grpc>=1.2.0 from https://files.pythonhosted.org/packages/88/76/9057dce1afb24204cbe7f1c04629980f7b0f9aa5f5114c39d2e25f24209a/opentelemetry_exporter_otlp_proto_grpc-1.22.0-py3-none-any.whl.metadata\n",
      "  Downloading opentelemetry_exporter_otlp_proto_grpc-1.22.0-py3-none-any.whl.metadata (2.4 kB)\n",
      "Collecting opentelemetry-instrumentation-fastapi>=0.41b0 (from chromadb)\n",
      "  Obtaining dependency information for opentelemetry-instrumentation-fastapi>=0.41b0 from https://files.pythonhosted.org/packages/1d/51/429d04b8694fec2f87184ced4beeab1dd6db194a9444b0a6fca1675338b2/opentelemetry_instrumentation_fastapi-0.43b0-py3-none-any.whl.metadata\n",
      "  Downloading opentelemetry_instrumentation_fastapi-0.43b0-py3-none-any.whl.metadata (2.3 kB)\n",
      "Collecting opentelemetry-sdk>=1.2.0 (from chromadb)\n",
      "  Obtaining dependency information for opentelemetry-sdk>=1.2.0 from https://files.pythonhosted.org/packages/ff/94/588f49e0dd9a62ec46102736d2378330032a55e19c79ff7e4febea7ebed1/opentelemetry_sdk-1.22.0-py3-none-any.whl.metadata\n",
      "  Downloading opentelemetry_sdk-1.22.0-py3-none-any.whl.metadata (1.5 kB)\n",
      "Requirement already satisfied: tokenizers>=0.13.2 in d:\\anaconda3\\lib\\site-packages (from chromadb) (0.13.3)\n",
      "Collecting pypika>=0.48.9 (from chromadb)\n",
      "  Downloading PyPika-0.48.9.tar.gz (67 kB)\n",
      "     ---------------------------------------- 0.0/67.3 kB ? eta -:--:--\n",
      "     ---------------------------------------- 67.3/67.3 kB 1.8 MB/s eta 0:00:00\n",
      "  Installing build dependencies: started\n",
      "  Installing build dependencies: finished with status 'done'\n",
      "  Getting requirements to build wheel: started\n",
      "  Getting requirements to build wheel: finished with status 'done'\n",
      "  Preparing metadata (pyproject.toml): started\n",
      "  Preparing metadata (pyproject.toml): finished with status 'done'\n",
      "Requirement already satisfied: tqdm>=4.65.0 in d:\\anaconda3\\lib\\site-packages (from chromadb) (4.65.0)\n",
      "Collecting overrides>=7.3.1 (from chromadb)\n",
      "  Obtaining dependency information for overrides>=7.3.1 from https://files.pythonhosted.org/packages/da/28/3fa6ef8297302fc7b3844980b6c5dbc71cdbd4b61e9b2591234214d5ab39/overrides-7.4.0-py3-none-any.whl.metadata\n",
      "  Downloading overrides-7.4.0-py3-none-any.whl.metadata (5.7 kB)\n",
      "Collecting importlib-resources (from chromadb)\n",
      "  Obtaining dependency information for importlib-resources from https://files.pythonhosted.org/packages/93/e8/facde510585869b5ec694e8e0363ffe4eba067cb357a8398a55f6a1f8023/importlib_resources-6.1.1-py3-none-any.whl.metadata\n",
      "  Downloading importlib_resources-6.1.1-py3-none-any.whl.metadata (4.1 kB)\n",
      "Collecting grpcio>=1.58.0 (from chromadb)\n",
      "  Obtaining dependency information for grpcio>=1.58.0 from https://files.pythonhosted.org/packages/6a/b9/f94bea4c6f0e322a239f7ba66ba3b0ce766d1c6a2d50055f7c8acf0fba38/grpcio-1.60.0-cp311-cp311-win_amd64.whl.metadata\n",
      "  Downloading grpcio-1.60.0-cp311-cp311-win_amd64.whl.metadata (4.2 kB)\n",
      "Collecting bcrypt>=4.0.1 (from chromadb)\n",
      "  Obtaining dependency information for bcrypt>=4.0.1 from https://files.pythonhosted.org/packages/53/5b/73803e5bf877e07739deaeecb2e356f4cc9ae3b766558959a898f7a993e0/bcrypt-4.1.2-cp39-abi3-win_amd64.whl.metadata\n",
      "  Downloading bcrypt-4.1.2-cp39-abi3-win_amd64.whl.metadata (9.8 kB)\n",
      "Collecting typer>=0.9.0 (from chromadb)\n",
      "  Downloading typer-0.9.0-py3-none-any.whl (45 kB)\n",
      "     ---------------------------------------- 0.0/45.9 kB ? eta -:--:--\n",
      "     ---------------------------------------- 45.9/45.9 kB ? eta 0:00:00\n",
      "Collecting kubernetes>=28.1.0 (from chromadb)\n",
      "  Obtaining dependency information for kubernetes>=28.1.0 from https://files.pythonhosted.org/packages/f5/6a/1f69c2d8b1ff03f8d8e10d801f4ac3016ed4c1b00aa9795732c6ec900bba/kubernetes-28.1.0-py2.py3-none-any.whl.metadata\n",
      "  Downloading kubernetes-28.1.0-py2.py3-none-any.whl.metadata (1.5 kB)\n",
      "Collecting tenacity>=8.2.3 (from chromadb)\n",
      "  Obtaining dependency information for tenacity>=8.2.3 from https://files.pythonhosted.org/packages/f4/f1/990741d5bb2487d529d20a433210ffa136a367751e454214013b441c4575/tenacity-8.2.3-py3-none-any.whl.metadata\n",
      "  Downloading tenacity-8.2.3-py3-none-any.whl.metadata (1.0 kB)\n",
      "Requirement already satisfied: PyYAML>=6.0.0 in d:\\anaconda3\\lib\\site-packages (from chromadb) (6.0)\n",
      "Collecting mmh3>=4.0.1 (from chromadb)\n",
      "  Obtaining dependency information for mmh3>=4.0.1 from https://files.pythonhosted.org/packages/3f/2f/f2a4f4ae2f8eaeb0e3eb0582d8b95f2c1a7cff3250373d41ea8d28b4b14e/mmh3-4.0.1-cp311-cp311-win_amd64.whl.metadata\n",
      "  Downloading mmh3-4.0.1-cp311-cp311-win_amd64.whl.metadata (13 kB)\n",
      "Requirement already satisfied: packaging>=19.0 in d:\\anaconda3\\lib\\site-packages (from build>=1.0.3->chromadb) (23.2)\n",
      "Collecting pyproject_hooks (from build>=1.0.3->chromadb)\n",
      "  Downloading pyproject_hooks-1.0.0-py3-none-any.whl (9.3 kB)\n",
      "Requirement already satisfied: colorama in d:\\anaconda3\\lib\\site-packages (from build>=1.0.3->chromadb) (0.4.6)\n",
      "Collecting starlette<0.33.0,>=0.29.0 (from fastapi>=0.95.2->chromadb)\n",
      "  Obtaining dependency information for starlette<0.33.0,>=0.29.0 from https://files.pythonhosted.org/packages/40/9e/6bfa6be40034fa04cc50e2a81d24a4e5b89279c688b51380d70ac31c0556/starlette-0.32.0.post1-py3-none-any.whl.metadata\n",
      "  Downloading starlette-0.32.0.post1-py3-none-any.whl.metadata (5.8 kB)\n",
      "Collecting typing-extensions>=4.5.0 (from chromadb)\n",
      "  Obtaining dependency information for typing-extensions>=4.5.0 from https://files.pythonhosted.org/packages/b7/f4/6a90020cd2d93349b442bfcb657d0dc91eee65491600b2cb1d388bc98e6b/typing_extensions-4.9.0-py3-none-any.whl.metadata\n",
      "  Downloading typing_extensions-4.9.0-py3-none-any.whl.metadata (3.0 kB)\n",
      "Requirement already satisfied: certifi>=14.05.14 in d:\\anaconda3\\lib\\site-packages (from kubernetes>=28.1.0->chromadb) (2023.7.22)\n",
      "Requirement already satisfied: six>=1.9.0 in d:\\anaconda3\\lib\\site-packages (from kubernetes>=28.1.0->chromadb) (1.16.0)\n",
      "Requirement already satisfied: python-dateutil>=2.5.3 in d:\\anaconda3\\lib\\site-packages (from kubernetes>=28.1.0->chromadb) (2.8.2)\n",
      "Collecting google-auth>=1.0.1 (from kubernetes>=28.1.0->chromadb)\n",
      "  Obtaining dependency information for google-auth>=1.0.1 from https://files.pythonhosted.org/packages/93/54/180b2447607fb63c10ba4bed48044b71d112ca83496f96141b65eb278e37/google_auth-2.26.1-py2.py3-none-any.whl.metadata\n",
      "  Downloading google_auth-2.26.1-py2.py3-none-any.whl.metadata (4.7 kB)\n",
      "Requirement already satisfied: websocket-client!=0.40.0,!=0.41.*,!=0.42.*,>=0.32.0 in d:\\anaconda3\\lib\\site-packages (from kubernetes>=28.1.0->chromadb) (0.58.0)\n",
      "Collecting requests-oauthlib (from kubernetes>=28.1.0->chromadb)\n",
      "  Downloading requests_oauthlib-1.3.1-py2.py3-none-any.whl (23 kB)\n",
      "Collecting oauthlib>=3.2.2 (from kubernetes>=28.1.0->chromadb)\n",
      "  Downloading oauthlib-3.2.2-py3-none-any.whl (151 kB)\n",
      "     ---------------------------------------- 0.0/151.7 kB ? eta -:--:--\n",
      "     -------- ------------------------------- 30.7/151.7 kB ? eta -:--:--\n",
      "     ------------------------------ ------- 122.9/151.7 kB 2.4 MB/s eta 0:00:01\n",
      "     -------------------------------------- 151.7/151.7 kB 1.5 MB/s eta 0:00:00\n",
      "Requirement already satisfied: urllib3<2.0,>=1.24.2 in d:\\anaconda3\\lib\\site-packages (from kubernetes>=28.1.0->chromadb) (1.26.16)\n",
      "Collecting coloredlogs (from onnxruntime>=1.14.1->chromadb)\n",
      "  Downloading coloredlogs-15.0.1-py2.py3-none-any.whl (46 kB)\n",
      "     ---------------------------------------- 0.0/46.0 kB ? eta -:--:--\n",
      "     ---------------------------------------- 46.0/46.0 kB 2.2 MB/s eta 0:00:00\n",
      "Collecting flatbuffers (from onnxruntime>=1.14.1->chromadb)\n",
      "  Obtaining dependency information for flatbuffers from https://files.pythonhosted.org/packages/6f/12/d5c79ee252793ffe845d58a913197bfa02ae9a0b5c9bc3dc4b58d477b9e7/flatbuffers-23.5.26-py2.py3-none-any.whl.metadata\n",
      "  Downloading flatbuffers-23.5.26-py2.py3-none-any.whl.metadata (850 bytes)\n",
      "Collecting protobuf (from onnxruntime>=1.14.1->chromadb)\n",
      "  Obtaining dependency information for protobuf from https://files.pythonhosted.org/packages/fe/6b/7f177e8d6fe4caa14f4065433af9f879d4fab84f0d17dcba7b407f6bd808/protobuf-4.25.1-cp310-abi3-win_amd64.whl.metadata\n",
      "  Downloading protobuf-4.25.1-cp310-abi3-win_amd64.whl.metadata (541 bytes)\n",
      "Requirement already satisfied: sympy in d:\\anaconda3\\lib\\site-packages (from onnxruntime>=1.14.1->chromadb) (1.11.1)\n",
      "Collecting deprecated>=1.2.6 (from opentelemetry-api>=1.2.0->chromadb)\n",
      "  Obtaining dependency information for deprecated>=1.2.6 from https://files.pythonhosted.org/packages/20/8d/778b7d51b981a96554f29136cd59ca7880bf58094338085bcf2a979a0e6a/Deprecated-1.2.14-py2.py3-none-any.whl.metadata\n",
      "  Downloading Deprecated-1.2.14-py2.py3-none-any.whl.metadata (5.4 kB)\n",
      "Requirement already satisfied: importlib-metadata<7.0,>=6.0 in d:\\anaconda3\\lib\\site-packages (from opentelemetry-api>=1.2.0->chromadb) (6.0.0)\n",
      "Collecting backoff<3.0.0,>=1.10.0 (from opentelemetry-exporter-otlp-proto-grpc>=1.2.0->chromadb)\n",
      "  Downloading backoff-2.2.1-py3-none-any.whl (15 kB)\n",
      "Collecting googleapis-common-protos~=1.52 (from opentelemetry-exporter-otlp-proto-grpc>=1.2.0->chromadb)\n",
      "  Obtaining dependency information for googleapis-common-protos~=1.52 from https://files.pythonhosted.org/packages/f0/43/c9d8f75ddf08e2a0a27db243c13a700c3cc7ec615b545b697cf6f715ad92/googleapis_common_protos-1.62.0-py2.py3-none-any.whl.metadata\n",
      "  Downloading googleapis_common_protos-1.62.0-py2.py3-none-any.whl.metadata (1.5 kB)\n",
      "Collecting opentelemetry-exporter-otlp-proto-common==1.22.0 (from opentelemetry-exporter-otlp-proto-grpc>=1.2.0->chromadb)\n",
      "  Obtaining dependency information for opentelemetry-exporter-otlp-proto-common==1.22.0 from https://files.pythonhosted.org/packages/ee/75/0972205c139695ff3b21a58063e0e0440a81eaa2c5dd6ef4c1f22f58fdd5/opentelemetry_exporter_otlp_proto_common-1.22.0-py3-none-any.whl.metadata\n",
      "  Downloading opentelemetry_exporter_otlp_proto_common-1.22.0-py3-none-any.whl.metadata (1.9 kB)\n",
      "Collecting opentelemetry-proto==1.22.0 (from opentelemetry-exporter-otlp-proto-grpc>=1.2.0->chromadb)\n",
      "  Obtaining dependency information for opentelemetry-proto==1.22.0 from https://files.pythonhosted.org/packages/c7/0d/579c664af2f1faca957c3d8c9159ae9fc7a1fe8de7b40a2d2e4fa1832574/opentelemetry_proto-1.22.0-py3-none-any.whl.metadata\n",
      "  Downloading opentelemetry_proto-1.22.0-py3-none-any.whl.metadata (2.3 kB)\n",
      "Collecting opentelemetry-instrumentation-asgi==0.43b0 (from opentelemetry-instrumentation-fastapi>=0.41b0->chromadb)\n",
      "  Obtaining dependency information for opentelemetry-instrumentation-asgi==0.43b0 from https://files.pythonhosted.org/packages/71/cd/a0456c8e4441d9ef5b412a3ffdf97629a81adeb331f8bb645df4f9153dd8/opentelemetry_instrumentation_asgi-0.43b0-py3-none-any.whl.metadata\n",
      "  Downloading opentelemetry_instrumentation_asgi-0.43b0-py3-none-any.whl.metadata (2.1 kB)\n",
      "Collecting opentelemetry-instrumentation==0.43b0 (from opentelemetry-instrumentation-fastapi>=0.41b0->chromadb)\n",
      "  Obtaining dependency information for opentelemetry-instrumentation==0.43b0 from https://files.pythonhosted.org/packages/91/f0/4a9f7cbcc697273d847040a9e4f98ceb07b642e1fe5fed56a0fb6b567665/opentelemetry_instrumentation-0.43b0-py3-none-any.whl.metadata\n",
      "  Downloading opentelemetry_instrumentation-0.43b0-py3-none-any.whl.metadata (5.9 kB)\n",
      "Collecting opentelemetry-semantic-conventions==0.43b0 (from opentelemetry-instrumentation-fastapi>=0.41b0->chromadb)\n",
      "  Obtaining dependency information for opentelemetry-semantic-conventions==0.43b0 from https://files.pythonhosted.org/packages/e0/26/69be0f1a56a362c68fa0c7632d841b1b8f29d809bc6b1b897387c9f46973/opentelemetry_semantic_conventions-0.43b0-py3-none-any.whl.metadata\n",
      "  Downloading opentelemetry_semantic_conventions-0.43b0-py3-none-any.whl.metadata (2.3 kB)\n",
      "Collecting opentelemetry-util-http==0.43b0 (from opentelemetry-instrumentation-fastapi>=0.41b0->chromadb)\n",
      "  Obtaining dependency information for opentelemetry-util-http==0.43b0 from https://files.pythonhosted.org/packages/74/91/a87a59baeeb917a93f2cc86fa670cf533328d18a2d09b0cef4f65e8b83e9/opentelemetry_util_http-0.43b0-py3-none-any.whl.metadata\n",
      "  Downloading opentelemetry_util_http-0.43b0-py3-none-any.whl.metadata (2.5 kB)\n",
      "Requirement already satisfied: setuptools>=16.0 in d:\\anaconda3\\lib\\site-packages (from opentelemetry-instrumentation==0.43b0->opentelemetry-instrumentation-fastapi>=0.41b0->chromadb) (68.0.0)\n",
      "Requirement already satisfied: wrapt<2.0.0,>=1.0.0 in d:\\anaconda3\\lib\\site-packages (from opentelemetry-instrumentation==0.43b0->opentelemetry-instrumentation-fastapi>=0.41b0->chromadb) (1.14.1)\n",
      "Collecting asgiref~=3.0 (from opentelemetry-instrumentation-asgi==0.43b0->opentelemetry-instrumentation-fastapi>=0.41b0->chromadb)\n",
      "  Obtaining dependency information for asgiref~=3.0 from https://files.pythonhosted.org/packages/9b/80/b9051a4a07ad231558fcd8ffc89232711b4e618c15cb7a392a17384bbeef/asgiref-3.7.2-py3-none-any.whl.metadata\n",
      "  Downloading asgiref-3.7.2-py3-none-any.whl.metadata (9.2 kB)\n",
      "Collecting monotonic>=1.5 (from posthog>=2.4.0->chromadb)\n",
      "  Downloading monotonic-1.6-py2.py3-none-any.whl (8.2 kB)\n",
      "Requirement already satisfied: annotated-types>=0.4.0 in d:\\anaconda3\\lib\\site-packages (from pydantic>=1.9->chromadb) (0.6.0)\n",
      "Requirement already satisfied: pydantic-core==2.14.6 in d:\\anaconda3\\lib\\site-packages (from pydantic>=1.9->chromadb) (2.14.6)\n",
      "Requirement already satisfied: charset-normalizer<4,>=2 in d:\\anaconda3\\lib\\site-packages (from requests>=2.28->chromadb) (2.0.4)\n",
      "Requirement already satisfied: idna<4,>=2.5 in d:\\anaconda3\\lib\\site-packages (from requests>=2.28->chromadb) (3.4)\n",
      "Requirement already satisfied: click<9.0.0,>=7.1.1 in d:\\anaconda3\\lib\\site-packages (from typer>=0.9.0->chromadb) (8.0.4)\n",
      "Collecting h11>=0.8 (from uvicorn[standard]>=0.18.3->chromadb)\n",
      "  Downloading h11-0.14.0-py3-none-any.whl (58 kB)\n",
      "     ---------------------------------------- 0.0/58.3 kB ? eta -:--:--\n",
      "     ---------------------------------------- 58.3/58.3 kB ? eta 0:00:00\n",
      "Collecting httptools>=0.5.0 (from uvicorn[standard]>=0.18.3->chromadb)\n",
      "  Obtaining dependency information for httptools>=0.5.0 from https://files.pythonhosted.org/packages/14/e4/20d28dfe7f5b5603b6b04c33bb88662ad749de51f0c539a561f235f42666/httptools-0.6.1-cp311-cp311-win_amd64.whl.metadata\n",
      "  Downloading httptools-0.6.1-cp311-cp311-win_amd64.whl.metadata (3.7 kB)\n",
      "Requirement already satisfied: python-dotenv>=0.13 in d:\\anaconda3\\lib\\site-packages (from uvicorn[standard]>=0.18.3->chromadb) (1.0.0)\n",
      "Collecting watchfiles>=0.13 (from uvicorn[standard]>=0.18.3->chromadb)\n",
      "  Obtaining dependency information for watchfiles>=0.13 from https://files.pythonhosted.org/packages/f3/dc/2a8a447b783f5059c4bf7a6bad8fe59375a5a9ce872774763b25c21c2860/watchfiles-0.21.0-cp311-none-win_amd64.whl.metadata\n",
      "  Downloading watchfiles-0.21.0-cp311-none-win_amd64.whl.metadata (5.0 kB)\n",
      "Collecting websockets>=10.4 (from uvicorn[standard]>=0.18.3->chromadb)\n",
      "  Obtaining dependency information for websockets>=10.4 from https://files.pythonhosted.org/packages/d1/40/6b169cd1957476374f51f4486a3e85003149e62a14e6b78a958c2222337a/websockets-12.0-cp311-cp311-win_amd64.whl.metadata\n",
      "  Downloading websockets-12.0-cp311-cp311-win_amd64.whl.metadata (6.8 kB)\n",
      "Collecting cachetools<6.0,>=2.0.0 (from google-auth>=1.0.1->kubernetes>=28.1.0->chromadb)\n",
      "  Obtaining dependency information for cachetools<6.0,>=2.0.0 from https://files.pythonhosted.org/packages/a2/91/2d843adb9fbd911e0da45fbf6f18ca89d07a087c3daa23e955584f90ebf4/cachetools-5.3.2-py3-none-any.whl.metadata\n",
      "  Downloading cachetools-5.3.2-py3-none-any.whl.metadata (5.2 kB)\n",
      "Requirement already satisfied: pyasn1-modules>=0.2.1 in d:\\anaconda3\\lib\\site-packages (from google-auth>=1.0.1->kubernetes>=28.1.0->chromadb) (0.2.8)\n",
      "Collecting rsa<5,>=3.1.4 (from google-auth>=1.0.1->kubernetes>=28.1.0->chromadb)\n",
      "  Downloading rsa-4.9-py3-none-any.whl (34 kB)\n",
      "Requirement already satisfied: zipp>=0.5 in d:\\anaconda3\\lib\\site-packages (from importlib-metadata<7.0,>=6.0->opentelemetry-api>=1.2.0->chromadb) (3.11.0)\n",
      "Requirement already satisfied: anyio<5,>=3.4.0 in d:\\anaconda3\\lib\\site-packages (from starlette<0.33.0,>=0.29.0->fastapi>=0.95.2->chromadb) (3.5.0)\n",
      "Collecting humanfriendly>=9.1 (from coloredlogs->onnxruntime>=1.14.1->chromadb)\n",
      "  Downloading humanfriendly-10.0-py2.py3-none-any.whl (86 kB)\n",
      "     ---------------------------------------- 0.0/86.8 kB ? eta -:--:--\n",
      "     ---------------------------------------- 86.8/86.8 kB 2.5 MB/s eta 0:00:00\n",
      "Requirement already satisfied: mpmath>=0.19 in d:\\anaconda3\\lib\\site-packages (from sympy->onnxruntime>=1.14.1->chromadb) (1.3.0)\n",
      "Requirement already satisfied: sniffio>=1.1 in d:\\anaconda3\\lib\\site-packages (from anyio<5,>=3.4.0->starlette<0.33.0,>=0.29.0->fastapi>=0.95.2->chromadb) (1.2.0)\n",
      "Collecting pyreadline3 (from humanfriendly>=9.1->coloredlogs->onnxruntime>=1.14.1->chromadb)\n",
      "  Downloading pyreadline3-3.4.1-py3-none-any.whl (95 kB)\n",
      "     ---------------------------------------- 0.0/95.2 kB ? eta -:--:--\n",
      "     ---------------------------------------- 95.2/95.2 kB 5.3 MB/s eta 0:00:00\n",
      "Requirement already satisfied: pyasn1<0.5.0,>=0.4.6 in d:\\anaconda3\\lib\\site-packages (from pyasn1-modules>=0.2.1->google-auth>=1.0.1->kubernetes>=28.1.0->chromadb) (0.4.8)\n",
      "Downloading chromadb-0.4.22-py3-none-any.whl (509 kB)\n",
      "   ---------------------------------------- 0.0/509.0 kB ? eta -:--:--\n",
      "   ----------- ---------------------------- 143.4/509.0 kB 2.8 MB/s eta 0:00:01\n",
      "   ---------------------------- ----------- 358.4/509.0 kB 4.5 MB/s eta 0:00:01\n",
      "   ---------------------------------------- 509.0/509.0 kB 4.0 MB/s eta 0:00:00\n",
      "Downloading chroma_hnswlib-0.7.3-cp311-cp311-win_amd64.whl (151 kB)\n",
      "   ---------------------------------------- 0.0/151.6 kB ? eta -:--:--\n",
      "   ---------------------------------------- 151.6/151.6 kB 9.4 MB/s eta 0:00:00\n",
      "Downloading bcrypt-4.1.2-cp39-abi3-win_amd64.whl (158 kB)\n",
      "   ---------------------------------------- 0.0/158.3 kB ? eta -:--:--\n",
      "   -------------------------------------- - 153.6/158.3 kB 9.0 MB/s eta 0:00:01\n",
      "   ---------------------------------------- 158.3/158.3 kB 3.2 MB/s eta 0:00:00\n",
      "Downloading build-1.0.3-py3-none-any.whl (18 kB)\n",
      "Downloading fastapi-0.108.0-py3-none-any.whl (92 kB)\n",
      "   ---------------------------------------- 0.0/92.0 kB ? eta -:--:--\n",
      "   ---------------------------------------- 92.0/92.0 kB 2.6 MB/s eta 0:00:00\n",
      "Downloading grpcio-1.60.0-cp311-cp311-win_amd64.whl (3.7 MB)\n",
      "   ---------------------------------------- 0.0/3.7 MB ? eta -:--:--\n",
      "   -- ------------------------------------- 0.3/3.7 MB 5.2 MB/s eta 0:00:01\n",
      "   ---- ----------------------------------- 0.5/3.7 MB 5.6 MB/s eta 0:00:01\n",
      "   ------- -------------------------------- 0.7/3.7 MB 4.8 MB/s eta 0:00:01\n",
      "   ---------- ----------------------------- 0.9/3.7 MB 5.4 MB/s eta 0:00:01\n",
      "   ------------ --------------------------- 1.1/3.7 MB 5.2 MB/s eta 0:00:01\n",
      "   --------------- ------------------------ 1.5/3.7 MB 5.4 MB/s eta 0:00:01\n",
      "   ----------------- ---------------------- 1.6/3.7 MB 5.1 MB/s eta 0:00:01\n",
      "   ------------------- -------------------- 1.8/3.7 MB 4.9 MB/s eta 0:00:01\n",
      "   --------------------- ------------------ 2.0/3.7 MB 5.2 MB/s eta 0:00:01\n",
      "   ------------------------ --------------- 2.3/3.7 MB 5.1 MB/s eta 0:00:01\n",
      "   -------------------------- ------------- 2.4/3.7 MB 4.8 MB/s eta 0:00:01\n",
      "   ----------------------------- ---------- 2.7/3.7 MB 5.0 MB/s eta 0:00:01\n",
      "   ------------------------------- -------- 3.0/3.7 MB 5.0 MB/s eta 0:00:01\n",
      "   ----------------------------------- ---- 3.3/3.7 MB 5.1 MB/s eta 0:00:01\n",
      "   ---------------------------------------  3.7/3.7 MB 5.3 MB/s eta 0:00:01\n",
      "   ---------------------------------------  3.7/3.7 MB 5.4 MB/s eta 0:00:01\n",
      "   ---------------------------------------- 3.7/3.7 MB 4.7 MB/s eta 0:00:00\n",
      "Downloading kubernetes-28.1.0-py2.py3-none-any.whl (1.6 MB)\n",
      "   ---------------------------------------- 0.0/1.6 MB ? eta -:--:--\n",
      "   ------- -------------------------------- 0.3/1.6 MB 5.7 MB/s eta 0:00:01\n",
      "   ------------- -------------------------- 0.5/1.6 MB 6.4 MB/s eta 0:00:01\n",
      "   --------------------- ------------------ 0.8/1.6 MB 6.0 MB/s eta 0:00:01\n",
      "   ------------------------- -------------- 1.0/1.6 MB 5.3 MB/s eta 0:00:01\n",
      "   -------------------------------- ------- 1.3/1.6 MB 5.4 MB/s eta 0:00:01\n",
      "   ------------------------------------- -- 1.5/1.6 MB 5.2 MB/s eta 0:00:01\n",
      "   ---------------------------------------  1.6/1.6 MB 5.5 MB/s eta 0:00:01\n",
      "   ---------------------------------------- 1.6/1.6 MB 4.7 MB/s eta 0:00:00\n",
      "Downloading mmh3-4.0.1-cp311-cp311-win_amd64.whl (36 kB)\n",
      "Downloading onnxruntime-1.16.3-cp311-cp311-win_amd64.whl (7.4 MB)\n",
      "   ---------------------------------------- 0.0/7.4 MB ? eta -:--:--\n",
      "    --------------------------------------- 0.2/7.4 MB 5.1 MB/s eta 0:00:02\n",
      "   -- ------------------------------------- 0.4/7.4 MB 4.1 MB/s eta 0:00:02\n",
      "   -- ------------------------------------- 0.5/7.4 MB 4.6 MB/s eta 0:00:02\n",
      "   --- ------------------------------------ 0.7/7.4 MB 4.0 MB/s eta 0:00:02\n",
      "   ----- ---------------------------------- 1.0/7.4 MB 4.0 MB/s eta 0:00:02\n",
      "   ----- ---------------------------------- 1.0/7.4 MB 3.9 MB/s eta 0:00:02\n",
      "   ------- -------------------------------- 1.3/7.4 MB 4.1 MB/s eta 0:00:02\n",
      "   -------- ------------------------------- 1.5/7.4 MB 4.2 MB/s eta 0:00:02\n",
      "   ---------- ----------------------------- 1.8/7.4 MB 4.3 MB/s eta 0:00:02\n",
      "   ---------- ----------------------------- 1.9/7.4 MB 4.1 MB/s eta 0:00:02\n",
      "   ------------ --------------------------- 2.2/7.4 MB 4.4 MB/s eta 0:00:02\n",
      "   ------------- -------------------------- 2.5/7.4 MB 4.5 MB/s eta 0:00:02\n",
      "   -------------- ------------------------- 2.6/7.4 MB 4.4 MB/s eta 0:00:02\n",
      "   --------------- ------------------------ 2.8/7.4 MB 4.3 MB/s eta 0:00:02\n",
      "   ---------------- ----------------------- 3.1/7.4 MB 4.5 MB/s eta 0:00:01\n",
      "   ----------------- ---------------------- 3.3/7.4 MB 4.4 MB/s eta 0:00:01\n",
      "   -------------------- ------------------- 3.7/7.4 MB 4.7 MB/s eta 0:00:01\n",
      "   --------------------- ------------------ 4.0/7.4 MB 4.9 MB/s eta 0:00:01\n",
      "   ----------------------- ---------------- 4.3/7.4 MB 4.9 MB/s eta 0:00:01\n",
      "   ------------------------ --------------- 4.5/7.4 MB 4.8 MB/s eta 0:00:01\n",
      "   ------------------------ --------------- 4.6/7.4 MB 4.7 MB/s eta 0:00:01\n",
      "   -------------------------- ------------- 4.9/7.4 MB 4.8 MB/s eta 0:00:01\n",
      "   --------------------------- ------------ 5.1/7.4 MB 4.8 MB/s eta 0:00:01\n",
      "   ---------------------------- ----------- 5.3/7.4 MB 4.8 MB/s eta 0:00:01\n",
      "   ----------------------------- ---------- 5.4/7.4 MB 4.6 MB/s eta 0:00:01\n",
      "   ------------------------------ --------- 5.6/7.4 MB 4.6 MB/s eta 0:00:01\n",
      "   ------------------------------- -------- 5.8/7.4 MB 4.6 MB/s eta 0:00:01\n",
      "   -------------------------------- ------- 6.0/7.4 MB 4.6 MB/s eta 0:00:01\n",
      "   --------------------------------- ------ 6.1/7.4 MB 4.5 MB/s eta 0:00:01\n",
      "   ---------------------------------- ----- 6.3/7.4 MB 4.5 MB/s eta 0:00:01\n",
      "   ----------------------------------- ---- 6.5/7.4 MB 4.5 MB/s eta 0:00:01\n",
      "   ----------------------------------- ---- 6.6/7.4 MB 4.4 MB/s eta 0:00:01\n",
      "   ------------------------------------ --- 6.7/7.4 MB 4.4 MB/s eta 0:00:01\n",
      "   ------------------------------------- -- 6.8/7.4 MB 4.3 MB/s eta 0:00:01\n",
      "   ------------------------------------- -- 7.0/7.4 MB 4.3 MB/s eta 0:00:01\n",
      "   ---------------------------------------  7.4/7.4 MB 4.4 MB/s eta 0:00:01\n",
      "   ---------------------------------------  7.4/7.4 MB 4.4 MB/s eta 0:00:01\n",
      "   ---------------------------------------- 7.4/7.4 MB 4.2 MB/s eta 0:00:00\n",
      "Downloading opentelemetry_api-1.22.0-py3-none-any.whl (57 kB)\n",
      "   ---------------------------------------- 0.0/57.9 kB ? eta -:--:--\n",
      "   ---------------------------------------- 57.9/57.9 kB 1.5 MB/s eta 0:00:00\n",
      "Downloading opentelemetry_exporter_otlp_proto_grpc-1.22.0-py3-none-any.whl (18 kB)\n",
      "Downloading opentelemetry_exporter_otlp_proto_common-1.22.0-py3-none-any.whl (17 kB)\n",
      "Downloading opentelemetry_proto-1.22.0-py3-none-any.whl (50 kB)\n",
      "   ---------------------------------------- 0.0/50.8 kB ? eta -:--:--\n",
      "   ---------------------------------------- 50.8/50.8 kB ? eta 0:00:00\n",
      "Downloading opentelemetry_instrumentation_fastapi-0.43b0-py3-none-any.whl (11 kB)\n",
      "Downloading opentelemetry_instrumentation-0.43b0-py3-none-any.whl (28 kB)\n",
      "Downloading opentelemetry_instrumentation_asgi-0.43b0-py3-none-any.whl (14 kB)\n",
      "Downloading opentelemetry_semantic_conventions-0.43b0-py3-none-any.whl (36 kB)\n",
      "Downloading opentelemetry_util_http-0.43b0-py3-none-any.whl (6.9 kB)\n",
      "Downloading opentelemetry_sdk-1.22.0-py3-none-any.whl (105 kB)\n",
      "   ---------------------------------------- 0.0/105.6 kB ? eta -:--:--\n",
      "   ---------------------------------------- 105.6/105.6 kB ? eta 0:00:00\n",
      "Downloading overrides-7.4.0-py3-none-any.whl (17 kB)\n",
      "Downloading posthog-3.1.0-py2.py3-none-any.whl (37 kB)\n",
      "Downloading pulsar_client-3.4.0-cp311-cp311-win_amd64.whl (3.4 MB)\n",
      "   ---------------------------------------- 0.0/3.4 MB ? eta -:--:--\n",
      "   ------ --------------------------------- 0.6/3.4 MB 17.5 MB/s eta 0:00:01\n",
      "   -------- ------------------------------- 0.7/3.4 MB 15.0 MB/s eta 0:00:01\n",
      "   ------------ --------------------------- 1.1/3.4 MB 8.8 MB/s eta 0:00:01\n",
      "   ----------------- ---------------------- 1.5/3.4 MB 8.8 MB/s eta 0:00:01\n",
      "   ------------------- -------------------- 1.7/3.4 MB 7.7 MB/s eta 0:00:01\n",
      "   ------------------------- -------------- 2.2/3.4 MB 8.2 MB/s eta 0:00:01\n",
      "   ------------------------------- -------- 2.7/3.4 MB 8.7 MB/s eta 0:00:01\n",
      "   ----------------------------------- ---- 3.0/3.4 MB 8.8 MB/s eta 0:00:01\n",
      "   ------------------------------------ --- 3.1/3.4 MB 8.0 MB/s eta 0:00:01\n",
      "   ---------------------------------------  3.4/3.4 MB 7.4 MB/s eta 0:00:01\n",
      "   ---------------------------------------  3.4/3.4 MB 7.3 MB/s eta 0:00:01\n",
      "   ---------------------------------------- 3.4/3.4 MB 6.7 MB/s eta 0:00:00\n",
      "Downloading tenacity-8.2.3-py3-none-any.whl (24 kB)\n",
      "Downloading typing_extensions-4.9.0-py3-none-any.whl (32 kB)\n",
      "Downloading importlib_resources-6.1.1-py3-none-any.whl (33 kB)\n",
      "Downloading Deprecated-1.2.14-py2.py3-none-any.whl (9.6 kB)\n",
      "Downloading google_auth-2.26.1-py2.py3-none-any.whl (186 kB)\n",
      "   ---------------------------------------- 0.0/186.4 kB ? eta -:--:--\n",
      "   ---------------------------------------- 186.4/186.4 kB 5.7 MB/s eta 0:00:00\n",
      "Downloading googleapis_common_protos-1.62.0-py2.py3-none-any.whl (228 kB)\n",
      "   ---------------------------------------- 0.0/228.7 kB ? eta -:--:--\n",
      "   --------------------------------------- 228.7/228.7 kB 14.6 MB/s eta 0:00:00\n",
      "Downloading httptools-0.6.1-cp311-cp311-win_amd64.whl (55 kB)\n",
      "   ---------------------------------------- 0.0/55.4 kB ? eta -:--:--\n",
      "   ---------------------------------------- 55.4/55.4 kB 2.8 MB/s eta 0:00:00\n",
      "Downloading protobuf-4.25.1-cp310-abi3-win_amd64.whl (413 kB)\n",
      "   ---------------------------------------- 0.0/413.4 kB ? eta -:--:--\n",
      "   --------------------------- ------------ 286.7/413.4 kB 8.9 MB/s eta 0:00:01\n",
      "   ---------------------------------------- 413.4/413.4 kB 8.6 MB/s eta 0:00:00\n",
      "Downloading starlette-0.32.0.post1-py3-none-any.whl (70 kB)\n",
      "   ---------------------------------------- 0.0/70.0 kB ? eta -:--:--\n",
      "   ----------------------------------- ---- 61.4/70.0 kB 1.7 MB/s eta 0:00:01\n",
      "   ---------------------------------------- 70.0/70.0 kB 1.3 MB/s eta 0:00:00\n",
      "Downloading watchfiles-0.21.0-cp311-none-win_amd64.whl (280 kB)\n",
      "   ---------------------------------------- 0.0/280.1 kB ? eta -:--:--\n",
      "   --------------------------------------  276.5/280.1 kB 16.6 MB/s eta 0:00:01\n",
      "   ---------------------------------------- 280.1/280.1 kB 4.3 MB/s eta 0:00:00\n",
      "Downloading websockets-12.0-cp311-cp311-win_amd64.whl (124 kB)\n",
      "   ---------------------------------------- 0.0/125.0 kB ? eta -:--:--\n",
      "   ---------------------------------------  122.9/125.0 kB 7.5 MB/s eta 0:00:01\n",
      "   ---------------------------------------- 125.0/125.0 kB 2.5 MB/s eta 0:00:00\n",
      "Downloading flatbuffers-23.5.26-py2.py3-none-any.whl (26 kB)\n",
      "Downloading uvicorn-0.25.0-py3-none-any.whl (60 kB)\n",
      "   ---------------------------------------- 0.0/60.3 kB ? eta -:--:--\n",
      "   ---------------------------------------- 60.3/60.3 kB 1.6 MB/s eta 0:00:00\n",
      "Downloading asgiref-3.7.2-py3-none-any.whl (24 kB)\n",
      "Downloading cachetools-5.3.2-py3-none-any.whl (9.3 kB)\n",
      "Building wheels for collected packages: pypika\n",
      "  Building wheel for pypika (pyproject.toml): started\n",
      "  Building wheel for pypika (pyproject.toml): finished with status 'done'\n",
      "  Created wheel for pypika: filename=PyPika-0.48.9-py2.py3-none-any.whl size=53836 sha256=293062f8b2c39ef5225a6f6833fb8a59c3ae41909ee78637c7c8b3578f857967\n",
      "  Stored in directory: c:\\users\\rune heidtmann\\appdata\\local\\pip\\cache\\wheels\\a3\\01\\bd\\4c40ceb9d5354160cb186dcc153360f4ab7eb23e2b24daf96d\n",
      "Successfully built pypika\n",
      "Installing collected packages: pyreadline3, pypika, monotonic, mmh3, flatbuffers, websockets, typing-extensions, tenacity, rsa, pyproject_hooks, pulsar-client, protobuf, overrides, opentelemetry-util-http, opentelemetry-semantic-conventions, oauthlib, importlib-resources, humanfriendly, httptools, h11, grpcio, deprecated, chroma-hnswlib, cachetools, bcrypt, backoff, asgiref, watchfiles, uvicorn, typer, starlette, requests-oauthlib, posthog, opentelemetry-proto, opentelemetry-api, googleapis-common-protos, google-auth, coloredlogs, build, opentelemetry-sdk, opentelemetry-instrumentation, opentelemetry-exporter-otlp-proto-common, onnxruntime, kubernetes, opentelemetry-instrumentation-asgi, opentelemetry-exporter-otlp-proto-grpc, fastapi, opentelemetry-instrumentation-fastapi, chromadb\n",
      "  Attempting uninstall: typing-extensions\n",
      "    Found existing installation: typing_extensions 4.7.1\n",
      "    Uninstalling typing_extensions-4.7.1:\n",
      "      Successfully uninstalled typing_extensions-4.7.1\n",
      "  Attempting uninstall: tenacity\n",
      "    Found existing installation: tenacity 8.2.2\n",
      "    Uninstalling tenacity-8.2.2:\n",
      "      Successfully uninstalled tenacity-8.2.2\n",
      "  Attempting uninstall: bcrypt\n",
      "    Found existing installation: bcrypt 3.2.0\n",
      "    Uninstalling bcrypt-3.2.0:\n",
      "      Successfully uninstalled bcrypt-3.2.0\n"
     ]
    },
    {
     "name": "stderr",
     "output_type": "stream",
     "text": [
      "ERROR: Could not install packages due to an OSError: [WinError 5] Access is denied: 'D:\\\\anaconda3\\\\Lib\\\\site-packages\\\\~crypt\\\\_bcrypt.pyd'\n",
      "Consider using the `--user` option or check the permissions.\n",
      "\n"
     ]
    }
   ],
   "source": [
    "#!pip install langchain\n",
    "#!pip install pypdf\n",
    "#!pip install python-dotenv\n",
    "#!pip install pinecone-client\n",
    "#!pip install tiktoken"
   ]
  },
  {
   "cell_type": "code",
   "execution_count": 64,
   "id": "acd8ac25",
   "metadata": {},
   "outputs": [],
   "source": [
    "import warnings\n",
    "warnings.filterwarnings('ignore')"
   ]
  },
  {
   "cell_type": "code",
   "execution_count": 1,
   "id": "2d3e92ed",
   "metadata": {},
   "outputs": [
    {
     "data": {
      "text/plain": [
       "True"
      ]
     },
     "execution_count": 1,
     "metadata": {},
     "output_type": "execute_result"
    }
   ],
   "source": [
    "from langchain.document_loaders import UnstructuredPDFLoader, OnlinePDFLoader, PyPDFLoader, TextLoader\n",
    "from langchain.text_splitter import RecursiveCharacterTextSplitter\n",
    "from dotenv import load_dotenv\n",
    "import os\n",
    "\n",
    "load_dotenv()"
   ]
  },
  {
   "cell_type": "markdown",
   "id": "5166d759",
   "metadata": {},
   "source": [
    "### Load data\n",
    "\n"
   ]
  },
  {
   "cell_type": "code",
   "execution_count": 30,
   "id": "b4a2d6bf",
   "metadata": {},
   "outputs": [
    {
     "name": "stdout",
     "output_type": "stream",
     "text": [
      "1-s2.0-S0196890409000764-main.pdf added\n",
      "1\n",
      "1-s2.0-S0196890410002207-main.pdf added\n",
      "2\n",
      "1-s2.0-S0360319916320717-main.pdf added\n",
      "3\n",
      "1-s2.0-S0734975012001048-main.pdf added\n",
      "4\n",
      "1-s2.0-S1319016409000462-main.pdf added\n",
      "5\n",
      "1-s2.0-S1364032114005413-main.pdf added\n",
      "6\n",
      "1-s2.0-S1364032114009915-main.pdf added\n",
      "7\n",
      "978-1-4939-2684-8.pdf can't be loaded correctly\n",
      "978-3-030-57911-1.pdf added\n",
      "8\n",
      "978-3-031-33144-2 (1).pdf added\n",
      "9\n",
      "978-3-031-33144-2.pdf can't be loaded correctly\n",
      "978-3-031-42026-9.pdf added\n",
      "10\n",
      "978-3-319-17031-2.pdf added\n",
      "11\n",
      "978-3-319-19018-1.pdf added\n",
      "12\n",
      "978-3-319-51010-1.pdf added\n",
      "13\n",
      "978-3-319-52666-9.pdf added\n",
      "14\n",
      "978-3-319-68717-9.pdf added\n",
      "15\n",
      "978-3-319-74703-3.pdf added\n",
      "16\n",
      "978-81-322-3965-9.pdf added\n",
      "17\n",
      "978-94-007-7494-0.pdf added\n",
      "18\n",
      "978-981-16-6162-4.pdf added\n",
      "19\n",
      "978-981-16-8682-5.pdf added\n",
      "20\n",
      "978-981-19-6810-5.pdf added\n",
      "21\n"
     ]
    },
    {
     "name": "stderr",
     "output_type": "stream",
     "text": [
      "invalid pdf header: b'\\n1702'\n"
     ]
    },
    {
     "name": "stdout",
     "output_type": "stream",
     "text": [
      "978-981-32-9607-7.pdf added\n",
      "22\n",
      "ajol-file-journals_82_articles_128906_submission_proof_128906-973-349244-1-10-20160120.pdf can't be loaded correctly\n",
      "Algal-biodiesel-promising-source-to-power-CI-e_2020_Materials-Today--Proceed.pdf added\n",
      "23\n",
      "BF00446694.pdf added\n",
      "24\n",
      "Comparative-studies-on-liquefaction-of-low-lipid-microalgae-into-bio_2019_Fu.pdf added\n",
      "25\n",
      "dring-2003-photocontrol-of-development-in-algae.pdf added\n",
      "26\n",
      "Enhanced-lipid-productivity-approaches-in-microalgae-_2016_Journal-of-the-En.pdf added\n",
      "27\n",
      "Freshwater Microbiology - 2004 - Sigee - Algae  The Major Microbial Biomass in Freshwater Systems.pdf added\n",
      "28\n",
      "FULLTEXT01.pdf added\n",
      "29\n",
      "identification_of_algea_growth_kinetics-groen_kennisnet_9247.pdf added\n",
      "30\n",
      "Impact-of-cultivation-conditions-on-the-biomass-and-lipid-in-microal_2021_Fu.pdf added\n",
      "31\n",
      "Journal of Phycology - 2012 - Clerck - Algal taxonomy  a road to nowhere.pdf added\n",
      "32\n",
      "Journal of Phycology - 2012 - Guiry - HOW MANY SPECIES OF ALGAE ARE THERE.pdf added\n",
      "33\n",
      "Life-cycle-assessment-on-microalgal-biodiesel-production-_2014_Bioresource-T.pdf added\n",
      "34\n",
      "OARJBP-2021-0019.pdf added\n",
      "35\n",
      "Organic-nitrogen-application-on-algal-growth-for-bi_2023_Materials-Today--Pr.pdf added\n",
      "36\n",
      "Production-and-characterization-of-biodiesel-fro_2014_Fuel-Processing-Techno.pdf added\n",
      "37\n",
      "Quality-of-bio-oil-from-catalytic-pyrolysis-of-microalgae-Chlorella_2018_Fue.pdf added\n",
      "38\n",
      "Removal and Utilization of Wastewater Nutrients for Algae Biomass.pdf added\n",
      "39\n",
      "s11027-010-9255-9.pdf added\n",
      "40\n",
      "The Algae Worls.pdf added\n",
      "41\n",
      "The potential of sustainable algal biofuel production using wastewater resources - ScienceDirect.pdf added\n",
      "42\n",
      "The-potential-of-microalgae-in-biodiesel_2018_Renewable-and-Sustainable-Ener.pdf added\n",
      "43\n",
      "The-potentials-and-challenges-of-algae-based-biofuels--A-rev_2015_Bioresourc.pdf added\n",
      "44\n",
      "Use-of-microalgae-to-recycle-nutrients-in-aqueous-phase-de_2018_Bioresource-.pdf added\n",
      "45\n"
     ]
    }
   ],
   "source": [
    "# PyPDFLoader will split a pdf by page. We there make a list whith chunks. And append all pages from all books to it.\n",
    "data = []\n",
    "file_path = \"Algae-Chatbot/\"\n",
    "file_names = os.listdir(file_path)\n",
    "\n",
    "for file_name in file_names:\n",
    "    if file_name.endswith('.pdf'):\n",
    "        try:\n",
    "            loader = PyPDFLoader(file_path+file_name)\n",
    "            data.append(loader.load())\n",
    "            print(f'{file_name} added')\n",
    "            print(f'{len(data)}')\n",
    "        except:\n",
    "            print(f\"{file_name} can't be loaded correctly\")\n",
    "\n"
   ]
  },
  {
   "cell_type": "markdown",
   "id": "e07a744a",
   "metadata": {},
   "source": [
    "Then let's actually check out what's been loaded"
   ]
  },
  {
   "cell_type": "code",
   "execution_count": 36,
   "id": "b4fd7c9e",
   "metadata": {},
   "outputs": [
    {
     "name": "stdout",
     "output_type": "stream",
     "text": [
      "<class 'list'>\n",
      "There are 8218 page(s) in the data\n",
      "There are 4681 characters in a sample document\n",
      "A sample: 239\n",
      " 23. To set up the chromatographic conditions, first run a series of \n",
      "TLCs to find the solvent system that will give a good separa -\n",
      "tion of the components of the mixture under study. If two \n",
      "components of interest are running close together, a differ -\n",
      "ence of Rf values around 0.2–0.3 between them will indicate a \n",
      "satisfactory solvent system. There are often irrelevant impuri -\n",
      "ties that could be either very polar or very nonpolar; these can \n",
      "be largely ignored. The next step is the amount of silica to be \n",
      "used. Usually, if the component required is well separated \n",
      "from other components, a ratio of 20:1 (silica:sample) should \n",
      "be used. If the Rf difference between spots is less than 0.2, the \n",
      "separation may be improved by increasing the amount of silica \n",
      "according to the ratios shown in Fig.  3.\n",
      "∆Rf\n",
      "∆Rf0.30 0.14 0.10 0.08\n",
      "Approximate \n",
      "ratio silica (g)/\n",
      "sample (g)20:1 50:1 100:1 50:1\n",
      "0.21 0.14 0.09\n",
      "Approximate \n",
      "ratio silica (g)/ \n",
      "sample (g )20:1 50:1 100:15 0:1\n",
      "Gradient \n",
      "elutio n\n",
      "Fig. 3  Illustrative guide of silica:sample ratios for flash chromatography. Spots marked with a star  are not \n",
      "required products\n",
      "Isolation of Sesquiterpenes from Laurencia\n"
     ]
    }
   ],
   "source": [
    "list_of_chunks = [item for sublist in list_of_cunks for item in sublist]\n",
    "list_of_chunks[0]\n",
    "print(type(list_of_chunks))\n",
    "print (f'There are {len(list_of_chunks)} page(s) in the data')\n",
    "print (f'There are {len(list_of_chunks[0].page_content)} characters in a sample document')\n",
    "print (f'A sample: {list_of_chunks[340].page_content[:10000]}')"
   ]
  },
  {
   "cell_type": "markdown",
   "id": "8af9b604",
   "metadata": {},
   "source": [
    "### Chunk data up into smaller documents\n",
    "We can't attached a whole book as context to our LLM. It will recieve to much noise, and will likely not answer our question that well. Instead we divide the book into chunks. Then we will later only attach the really relevant chunks as context to the question we send til the llm. This will give us a sharper respons."
   ]
  },
  {
   "cell_type": "code",
   "execution_count": 37,
   "id": "fb3c6f02",
   "metadata": {},
   "outputs": [],
   "source": [
    "# We'll split our data into chunks around 2056 characters each with a 256 character overlap.\n",
    "# 2056 characters is completely arbitrary. Play around wither larger and smaller chunks to improve results.\n",
    "\n",
    "text_splitter = RecursiveCharacterTextSplitter(chunk_size=2056, chunk_overlap=256)\n",
    "texts = text_splitter.split_documents(list_of_chunks)"
   ]
  },
  {
   "cell_type": "code",
   "execution_count": 38,
   "id": "879873a4",
   "metadata": {},
   "outputs": [
    {
     "name": "stdout",
     "output_type": "stream",
     "text": [
      "Now you have 15228 chunks\n"
     ]
    }
   ],
   "source": [
    "# Number of chunks we have\n",
    "print (f'Now you have {len(texts)} chunks')"
   ]
  },
  {
   "cell_type": "code",
   "execution_count": 40,
   "id": "380f9527",
   "metadata": {},
   "outputs": [
    {
     "name": "stdout",
     "output_type": "stream",
     "text": [
      "page_content='described in rice seedlings under cold stress, showing that the cold-induced ABAincrease is linked to CKs signaling (Maruyama et al. 2014 ).\\nInterestingly, exogenous application of certain molecules increases the ABA\\nlevels leading to an alleviation of cold stress. In this sense, melatonin, which wasrecently discovered in plants and it is present in high amounts in several medicinalplants such as feverfew ( Tanacetum parthenium ), St John ’s wort ( Hypericum\\nperforatum ), and Huang-qin ( Scutellaria baicalensis ) (Bajwa et al. 2014 ), was\\nshown to induce the antioxidant defense via ABA-dependent andABA-independent pathways in the grass Elymus nutans (Fu et al. 2017 ). Melatonin\\nincreases ABA levels but there were no evidence of a reciprocal effect of ABA onmelatonin endogenous content, suggesting that this compound should be actingupstream of ABA (Fu et al. 2017 ). Similarly, celastrol, a triterpenoid isolated from\\nTripterygium wilfordii which is used to treat some systemic illnesses, was\\ndemonstrated to enhance cold tolerance in cucumber by inducing the activities of\\nantioxidant enzymes, reducing the oxidative stress and increasing the ABA levels\\nby upregulating its biosynthesis through the expression of NCED2 gene (Zhu et al.\\n2017 ).\\nET is involved in abiotic stress resistance and speci ﬁcally in cold stress response\\nhowever, the question of whether it exerts a positive or negative role remains still\\nelusive. Some works report changes in ET production in response to low tempera-tures (Kazan 2015 ). In Arabidopsis, an increase in ET production was related to a\\nhigher activity of biosynthetic enzymes ACC synthase and ACC oxidase in response\\nto cold while the application of the ET precursor 1-aminocyclopropane-1-carboxylicMetabolic and Hormonal Responses of Plants to Cold Stress 147' metadata={'source': 'Algae-Chatbot/978-3-319-68717-9.pdf', 'page': 151}\n"
     ]
    }
   ],
   "source": [
    "#lets see what is inside the chunks:\n",
    "print(texts[8000])"
   ]
  },
  {
   "cell_type": "markdown",
   "id": "838b2843",
   "metadata": {},
   "source": [
    "### Create embeddings for document chunks to get ready for semantic search\n",
    "\n",
    "The technic for finding only the relevant chunks for our question is to do a semantic search. The way we prepare the cunks for this is through embedding them (getting a vector per document).\n",
    "\n",
    "This will help us compare documents later on.\n",
    "We use openAI's embeddingmodel for this.\n"
   ]
  },
  {
   "cell_type": "code",
   "execution_count": 41,
   "id": "373e695a",
   "metadata": {},
   "outputs": [
    {
     "name": "stderr",
     "output_type": "stream",
     "text": [
      "D:\\anaconda3\\Lib\\site-packages\\pinecone\\index.py:4: TqdmExperimentalWarning: Using `tqdm.autonotebook.tqdm` in notebook mode. Use `tqdm.tqdm` instead to force console mode (e.g. in jupyter console)\n",
      "  from tqdm.autonotebook import tqdm\n"
     ]
    }
   ],
   "source": [
    "from langchain.vectorstores import Pinecone\n",
    "from langchain.embeddings.openai import OpenAIEmbeddings\n",
    "import pinecone"
   ]
  },
  {
   "cell_type": "code",
   "execution_count": 42,
   "id": "42a1d5c3",
   "metadata": {
    "hide_input": false
   },
   "outputs": [
    {
     "name": "stderr",
     "output_type": "stream",
     "text": [
      "D:\\anaconda3\\Lib\\site-packages\\langchain_core\\_api\\deprecation.py:189: LangChainDeprecationWarning: The class `OpenAIEmbeddings` was deprecated in LangChain 0.1.0 and will be removed in 0.2.0. Use langchain_openai.OpenAIEmbeddings instead.\n",
      "  warn_deprecated(\n"
     ]
    }
   ],
   "source": [
    "OPENAI_API_KEY = os.getenv('OPENAI_API_KEY', 'YourAPIKey')\n",
    "embeddings = OpenAIEmbeddings(openai_api_key=OPENAI_API_KEY)"
   ]
  },
  {
   "cell_type": "markdown",
   "id": "7d4750ab",
   "metadata": {},
   "source": [
    "Let's test it out. I want to see which documents are most closely related to a query.\n",
    "\n"
   ]
  },
  {
   "cell_type": "markdown",
   "id": "b73d8504",
   "metadata": {},
   "source": [
    "### Pinecone (a vectorstore in the cloud)\n"
   ]
  },
  {
   "cell_type": "code",
   "execution_count": 46,
   "id": "0e093ef3",
   "metadata": {
    "hide_input": false
   },
   "outputs": [],
   "source": [
    "PINECONE_API_KEY = os.getenv('PINECONE_API_KEY', 'YourAPIKey')\n",
    "PINECONE_ENV = os.getenv('PINECONE_ENV', 'gcp-starter') \n",
    "\n",
    "# initialize pinecone\n",
    "pinecone.init(\n",
    "    api_key=PINECONE_API_KEY,  \n",
    "    environment=PINECONE_ENV  \n",
    ")\n",
    "index_name = \"algaeopenai\" \n",
    "\n",
    "if index_name not in pinecone.list_indexes():\n",
    "    # we create a new index\n",
    "    pinecone.create_index(name=index_name, metric=\"cosine\", dimension=1536)\n",
    "\n",
    "# The OpenAI embedding model `text-embedding-ada-002 uses 1536 dimensions`\n",
    "\n",
    "docsearch = Pinecone.from_documents(texts, embeddings, index_name=index_name)\n",
    "\n",
    "\n",
    "#already existing index:\n",
    "#docsearch = Pinecone.from_existing_index(index_name, embeddings)"
   ]
  },
  {
   "cell_type": "code",
   "execution_count": 47,
   "id": "1f6d8196",
   "metadata": {},
   "outputs": [],
   "source": [
    "index = pinecone.Index(index_name)\n"
   ]
  },
  {
   "cell_type": "code",
   "execution_count": 48,
   "id": "32c75e37",
   "metadata": {},
   "outputs": [
    {
     "data": {
      "text/plain": [
       "{'dimension': 1536,\n",
       " 'index_fullness': 0.15228,\n",
       " 'namespaces': {'': {'vector_count': 15228}},\n",
       " 'total_vector_count': 15228}"
      ]
     },
     "execution_count": 48,
     "metadata": {},
     "output_type": "execute_result"
    }
   ],
   "source": [
    "index.describe_index_stats()"
   ]
  },
  {
   "cell_type": "code",
   "execution_count": 49,
   "id": "ba35a330",
   "metadata": {},
   "outputs": [],
   "source": [
    "text_field = \"text\"  # the metadata field that contains our text\n",
    "\n",
    "# initialize the vector store object\n",
    "vectorstore = Pinecone(\n",
    "    index, embeddings, text_field\n",
    ")"
   ]
  },
  {
   "cell_type": "markdown",
   "id": "3c35dcd9",
   "metadata": {},
   "source": [
    "### Query those docs to get your answer back\n",
    "\n",
    "Great, those are just the docs which should hold our answer. Now we can pass those to a LangChain chain to query the LLM.\n",
    "\n",
    "We could do this manually, but a chain is a convenient helper for us."
   ]
  },
  {
   "cell_type": "code",
   "execution_count": 50,
   "id": "f051337b",
   "metadata": {},
   "outputs": [],
   "source": [
    "from langchain.chat_models import ChatOpenAI\n",
    "from langchain.chains.question_answering import load_qa_chain"
   ]
  },
  {
   "cell_type": "code",
   "execution_count": 51,
   "id": "6b9b1c03",
   "metadata": {},
   "outputs": [
    {
     "name": "stderr",
     "output_type": "stream",
     "text": [
      "D:\\anaconda3\\Lib\\site-packages\\langchain_core\\_api\\deprecation.py:189: LangChainDeprecationWarning: The class `ChatOpenAI` was deprecated in LangChain 0.1.0 and will be removed in 0.2.0. Use langchain_openai.ChatOpenAI instead.\n",
      "  warn_deprecated(\n"
     ]
    }
   ],
   "source": [
    "llm = ChatOpenAI(temperature=0, openai_api_key=OPENAI_API_KEY)\n",
    "chain = load_qa_chain(llm, chain_type=\"stuff\")"
   ]
  },
  {
   "cell_type": "code",
   "execution_count": 52,
   "id": "f67ea7c2",
   "metadata": {},
   "outputs": [
    {
     "data": {
      "text/plain": [
       "Document(page_content='Chapter 31\\nWater Is the Ultimate Source of Hydrogen\\nEnergy: Scientiﬁc Citations and Quotations\\nHussein K. Abdel-Aal and Nejat Veziroglu\\nAbstract From the ancient times, mankind has always been aware that all life on\\nearth depends upon water, the principal ingredient of all living cells. Its importancein forming the creation in all of its aspects in general and the living creatures in\\nparticular, as well as human kind, animals, and plants, is evident to all of us. It is\\nhighly important to know that water has played a major role for human kind. When\\nthe Ionian philosopher Thales of Miletus (624–545 BC) replaced the Gods withNatural Laws as the force governing all phenomena; he made water the central\\nelement in his theory.\\nThis chapter addresses the issue that water, besides its indispensable usage by\\nhuman beings in drinking and in everyday life, is the key element in providing lifewith energy, in the form of hydrogen .\\nThe main aim of this work is to shed some light on the relationship between\\nhydrogen, water, and energy. A review of some scientiﬁc unique physical and\\npowerful properties of water is presented. The high speciﬁc heat, caused by\\nhydrogen bonding, is behind the resistance to temperature change. Its availabilityfor mankind made it the standard of the thermometric scale. Next, the work presents\\nto the community of scientists some scientiﬁc citations and quotations that supportour statement that water is the ultimate source of hydrogen energy.\\nNewton, an avid alchemist set forth in De Natura Acidorium, views that all\\nsubstances can be reduced to water. Eventually, hydrogen, one of the components of\\nwater, can be derived from it. What is most amazing is that all of these citations,\\nscientiﬁc statements, and notions had been proven to be in perfect agreement withscience and our modern-day scientiﬁc discoveries that were not known to man1,500 years ago.\\nThis understanding of the use of water in providing energy in the form of\\nhydrogen adds a new dimension to our scientiﬁc thinking that life on earth depends', metadata={'page': 449.0, 'source': 'Algae-Chatbot/978-3-319-17031-2.pdf'})"
      ]
     },
     "execution_count": 52,
     "metadata": {},
     "output_type": "execute_result"
    }
   ],
   "source": [
    "query = \"In the context of hydrogen, what does THEUS stand for?\"\n",
    "docs = vectorstore.similarity_search(query, k=3)\n",
    "docs[2]"
   ]
  },
  {
   "cell_type": "code",
   "execution_count": 70,
   "id": "3dfd2b7d",
   "metadata": {
    "scrolled": true
   },
   "outputs": [
    {
     "name": "stdout",
     "output_type": "stream",
     "text": [
      "User:\n",
      "In the context of hydrogen, what does THEUS stand for?\n",
      "Algaefessor:\n",
      "THEUS stands for Totalized Hydrogen Energy Utilization System.\n",
      "Source: Algae-Chatbot/978-3-319-17031-2.pdf on page: 449\n"
     ]
    }
   ],
   "source": [
    "print('User:')\n",
    "print(query)\n",
    "print(\"Algaefessor:\")\n",
    "print(chain.run(input_documents=docs, question=query))\n",
    "print(f\"Source: {docs[2].metadata['source']} on page: {int(docs[2].metadata['page'])}\")"
   ]
  },
  {
   "cell_type": "code",
   "execution_count": null,
   "id": "ef7217b3",
   "metadata": {},
   "outputs": [],
   "source": [
    "chain."
   ]
  }
 ],
 "metadata": {
  "kernelspec": {
   "display_name": "Python 3",
   "language": "python",
   "name": "python3"
  },
  "language_info": {
   "codemirror_mode": {
    "name": "ipython",
    "version": 3
   },
   "file_extension": ".py",
   "mimetype": "text/x-python",
   "name": "python",
   "nbconvert_exporter": "python",
   "pygments_lexer": "ipython3",
   "version": "3.11.4"
  }
 },
 "nbformat": 4,
 "nbformat_minor": 5
}
