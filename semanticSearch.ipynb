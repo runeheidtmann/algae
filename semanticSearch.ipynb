{
 "cells": [
  {
   "cell_type": "code",
   "execution_count": 26,
   "id": "9d615a77",
   "metadata": {
    "scrolled": true
   },
   "outputs": [],
   "source": [
    "#!pip install langchain\n",
    "#!pip install pypdf\n",
    "#!pip install python-dotenv\n",
    "#!pip install pinecone-client\n",
    "#!pip install tiktoken\n",
    "import warnings\n",
    "warnings.filterwarnings('ignore')"
   ]
  },
  {
   "cell_type": "code",
   "execution_count": 2,
   "id": "2d3e92ed",
   "metadata": {},
   "outputs": [
    {
     "data": {
      "text/plain": [
       "True"
      ]
     },
     "execution_count": 2,
     "metadata": {},
     "output_type": "execute_result"
    }
   ],
   "source": [
    "from langchain.document_loaders import UnstructuredPDFLoader, OnlinePDFLoader, PyPDFLoader, TextLoader\n",
    "from langchain.text_splitter import RecursiveCharacterTextSplitter\n",
    "from dotenv import load_dotenv\n",
    "import os\n",
    "\n",
    "load_dotenv()"
   ]
  },
  {
   "cell_type": "markdown",
   "id": "5166d759",
   "metadata": {},
   "source": [
    "### Load data\n",
    "\n"
   ]
  },
  {
   "cell_type": "code",
   "execution_count": 9,
   "id": "b4a2d6bf",
   "metadata": {},
   "outputs": [
    {
     "name": "stdout",
     "output_type": "stream",
     "text": [
      "1-s2.0-S0196890409000764-main.pdf added\n",
      "1-s2.0-S0196890410002207-main.pdf added\n",
      "1-s2.0-S0360319916320717-main.pdf added\n",
      "1-s2.0-S0734975012001048-main.pdf added\n",
      "1-s2.0-S1319016409000462-main.pdf added\n",
      "1-s2.0-S1364032114005413-main.pdf added\n",
      "1-s2.0-S1364032114009915-main.pdf added\n",
      "978-1-4939-2684-8.pdf added\n",
      "978-3-030-57911-1.pdf added\n",
      "978-3-031-33144-2 (1).pdf added\n",
      "978-3-031-33144-2.pdf added\n",
      "978-3-031-42026-9.pdf added\n",
      "978-3-319-17031-2.pdf added\n",
      "978-3-319-19018-1.pdf added\n",
      "978-3-319-51010-1.pdf added\n",
      "978-3-319-52666-9.pdf added\n",
      "978-3-319-68717-9.pdf added\n",
      "978-3-319-74703-3.pdf added\n",
      "978-81-322-3965-9.pdf added\n",
      "978-94-007-7494-0.pdf added\n",
      "978-981-16-6162-4.pdf added\n",
      "978-981-16-8682-5.pdf added\n",
      "978-981-19-6810-5.pdf added\n"
     ]
    },
    {
     "name": "stderr",
     "output_type": "stream",
     "text": [
      "invalid pdf header: b'\\n1702'\n"
     ]
    },
    {
     "name": "stdout",
     "output_type": "stream",
     "text": [
      "978-981-32-9607-7.pdf added\n",
      "ajol-file-journals_82_articles_128906_submission_proof_128906-973-349244-1-10-20160120.pdf can't be loaded correctly\n",
      "Algal-biodiesel-promising-source-to-power-CI-e_2020_Materials-Today--Proceed.pdf added\n",
      "BF00446694.pdf added\n",
      "Comparative-studies-on-liquefaction-of-low-lipid-microalgae-into-bio_2019_Fu.pdf added\n",
      "dring-2003-photocontrol-of-development-in-algae.pdf added\n",
      "Enhanced-lipid-productivity-approaches-in-microalgae-_2016_Journal-of-the-En.pdf added\n",
      "Freshwater Microbiology - 2004 - Sigee - Algae  The Major Microbial Biomass in Freshwater Systems.pdf added\n",
      "FULLTEXT01.pdf added\n",
      "identification_of_algea_growth_kinetics-groen_kennisnet_9247.pdf added\n",
      "Impact-of-cultivation-conditions-on-the-biomass-and-lipid-in-microal_2021_Fu.pdf added\n",
      "Journal of Phycology - 2012 - Clerck - Algal taxonomy  a road to nowhere.pdf added\n",
      "Journal of Phycology - 2012 - Guiry - HOW MANY SPECIES OF ALGAE ARE THERE.pdf added\n",
      "Life-cycle-assessment-on-microalgal-biodiesel-production-_2014_Bioresource-T.pdf added\n",
      "OARJBP-2021-0019.pdf added\n",
      "Organic-nitrogen-application-on-algal-growth-for-bi_2023_Materials-Today--Pr.pdf added\n",
      "Production-and-characterization-of-biodiesel-fro_2014_Fuel-Processing-Techno.pdf added\n",
      "Quality-of-bio-oil-from-catalytic-pyrolysis-of-microalgae-Chlorella_2018_Fue.pdf added\n",
      "Removal and Utilization of Wastewater Nutrients for Algae Biomass.pdf added\n",
      "s11027-010-9255-9.pdf added\n",
      "The Algae Worls.pdf added\n",
      "The potential of sustainable algal biofuel production using wastewater resources - ScienceDirect.pdf added\n",
      "The-potential-of-microalgae-in-biodiesel_2018_Renewable-and-Sustainable-Ener.pdf added\n",
      "The-potentials-and-challenges-of-algae-based-biofuels--A-rev_2015_Bioresourc.pdf added\n",
      "Use-of-microalgae-to-recycle-nutrients-in-aqueous-phase-de_2018_Bioresource-.pdf added\n"
     ]
    }
   ],
   "source": [
    "# PyPDFLoader will split a pdf by page and return a list of pages. Append all lists pages from all books to data.\n",
    "data = []\n",
    "file_path = \"Algae-Chatbot/\"\n",
    "file_names = os.listdir(file_path)\n",
    "\n",
    "for file_name in file_names:\n",
    "    if file_name.endswith('.pdf'):\n",
    "        try:\n",
    "            loader = PyPDFLoader(file_path+file_name)\n",
    "            data.append(loader.load())\n",
    "            print(f'{file_name} added')\n",
    "        \n",
    "        except:\n",
    "            print(f\"{file_name} can't be loaded correctly\")\n",
    "\n"
   ]
  },
  {
   "cell_type": "markdown",
   "id": "e07a744a",
   "metadata": {},
   "source": [
    "Then let's actually check out what's been loaded"
   ]
  },
  {
   "cell_type": "code",
   "execution_count": 11,
   "id": "b4fd7c9e",
   "metadata": {},
   "outputs": [
    {
     "name": "stdout",
     "output_type": "stream",
     "text": [
      "<class 'list'>\n",
      "There are 8218 page(s) in the data\n",
      "There are 4681 characters in a sample document\n",
      "A sample: 239\n",
      " 23. To set up the chromatographic conditions, first run a series of \n",
      "TLCs to find the solvent system that will give a good separa -\n",
      "tion of the components of the mixture under study. If two \n",
      "components of interest are running close together, a differ -\n",
      "ence of Rf values around 0.2–0.3 between them will indicate a \n",
      "satisfactory solvent system. There are often irrelevant impuri -\n",
      "ties that could be either very polar or very nonpolar; these can \n",
      "be largely ignored. The next step is the amount of silica to be \n",
      "used. Usually, if the component required is well separated \n",
      "from other components, a ratio of 20:1 (silica:sample) should \n",
      "be used. If the Rf difference between spots is less than 0.2, the \n",
      "separation may be improved by increasing the amount of silica \n",
      "according to the ratios shown in Fig.  3.\n",
      "∆Rf\n",
      "∆Rf0.30 0.14 0.10 0.08\n",
      "Approximate \n",
      "ratio silica (g)/\n",
      "sample (g)20:1 50:1 100:1 50:1\n",
      "0.21 0.14 0.09\n",
      "Approximate \n",
      "ratio silica (g)/ \n",
      "sample (g )20:1 50:1 100:15 0:1\n",
      "Gradient \n",
      "elutio n\n",
      "Fig. 3  Illustrative guide of silica:sample ratios for flash chromatography. Spots marked with a star  are not \n",
      "required products\n",
      "Isolation of Sesquiterpenes from Laurencia\n"
     ]
    }
   ],
   "source": [
    "#Unfold the list of pages\n",
    "list_of_pages = [item for sublist in data for item in sublist]\n",
    "print(type(list_of_pages))\n",
    "print (f'There are {len(list_of_pages)} page(s) in the data')\n",
    "print (f'There are {len(list_of_pages[0].page_content)} characters in a sample document')\n",
    "print (f'A sample: {list_of_pages[340].page_content[:10000]}')"
   ]
  },
  {
   "cell_type": "markdown",
   "id": "8af9b604",
   "metadata": {},
   "source": [
    "### Chunk data up into smaller documents\n",
    "We can't attached a whole book as context to our LLM. It will recieve to much noise, and will likely not answer our question that well. Instead we divide the book into chunks. Then we will later only attach the really relevant chunks as context to the question we send til the llm. This will give us a sharper respons."
   ]
  },
  {
   "cell_type": "code",
   "execution_count": 12,
   "id": "fb3c6f02",
   "metadata": {},
   "outputs": [],
   "source": [
    "# We'll split our data into chunks around 2056 characters each with a 256 character overlap.\n",
    "# 2056 characters is completely arbitrary, around a half page. \n",
    "# - Play around wither larger and smaller chunks to maybe improve results.\n",
    "\n",
    "text_splitter = RecursiveCharacterTextSplitter(chunk_size=2056, chunk_overlap=256)\n",
    "texts = text_splitter.split_documents(list_of_pages)"
   ]
  },
  {
   "cell_type": "code",
   "execution_count": 13,
   "id": "879873a4",
   "metadata": {},
   "outputs": [
    {
     "name": "stdout",
     "output_type": "stream",
     "text": [
      "Now you have 15228 chunks\n"
     ]
    }
   ],
   "source": [
    "# Number of chunks we have\n",
    "print (f'Now you have {len(texts)} chunks')"
   ]
  },
  {
   "cell_type": "code",
   "execution_count": 14,
   "id": "380f9527",
   "metadata": {},
   "outputs": [
    {
     "name": "stdout",
     "output_type": "stream",
     "text": [
      "page_content='described in rice seedlings under cold stress, showing that the cold-induced ABAincrease is linked to CKs signaling (Maruyama et al. 2014 ).\\nInterestingly, exogenous application of certain molecules increases the ABA\\nlevels leading to an alleviation of cold stress. In this sense, melatonin, which wasrecently discovered in plants and it is present in high amounts in several medicinalplants such as feverfew ( Tanacetum parthenium ), St John ’s wort ( Hypericum\\nperforatum ), and Huang-qin ( Scutellaria baicalensis ) (Bajwa et al. 2014 ), was\\nshown to induce the antioxidant defense via ABA-dependent andABA-independent pathways in the grass Elymus nutans (Fu et al. 2017 ). Melatonin\\nincreases ABA levels but there were no evidence of a reciprocal effect of ABA onmelatonin endogenous content, suggesting that this compound should be actingupstream of ABA (Fu et al. 2017 ). Similarly, celastrol, a triterpenoid isolated from\\nTripterygium wilfordii which is used to treat some systemic illnesses, was\\ndemonstrated to enhance cold tolerance in cucumber by inducing the activities of\\nantioxidant enzymes, reducing the oxidative stress and increasing the ABA levels\\nby upregulating its biosynthesis through the expression of NCED2 gene (Zhu et al.\\n2017 ).\\nET is involved in abiotic stress resistance and speci ﬁcally in cold stress response\\nhowever, the question of whether it exerts a positive or negative role remains still\\nelusive. Some works report changes in ET production in response to low tempera-tures (Kazan 2015 ). In Arabidopsis, an increase in ET production was related to a\\nhigher activity of biosynthetic enzymes ACC synthase and ACC oxidase in response\\nto cold while the application of the ET precursor 1-aminocyclopropane-1-carboxylicMetabolic and Hormonal Responses of Plants to Cold Stress 147' metadata={'source': 'Algae-Chatbot/978-3-319-68717-9.pdf', 'page': 151}\n"
     ]
    }
   ],
   "source": [
    "#lets see what is inside the chunks:\n",
    "print(texts[8000])"
   ]
  },
  {
   "cell_type": "markdown",
   "id": "838b2843",
   "metadata": {},
   "source": [
    "### Create embeddings for document chunks to get ready for semantic search\n",
    "\n",
    "The technic for finding only the relevant chunks for our question is to do a semantic search. The way we prepare the cunks for this is through embedding them (getting a vector per document).\n",
    "\n",
    "This will help us compare documents later on.\n",
    "We use openAI's embeddingmodel for this.\n"
   ]
  },
  {
   "cell_type": "code",
   "execution_count": 15,
   "id": "373e695a",
   "metadata": {},
   "outputs": [],
   "source": [
    "from langchain.vectorstores import Pinecone\n",
    "from langchain.embeddings.openai import OpenAIEmbeddings\n",
    "import pinecone"
   ]
  },
  {
   "cell_type": "code",
   "execution_count": 16,
   "id": "42a1d5c3",
   "metadata": {
    "hide_input": false
   },
   "outputs": [
    {
     "name": "stderr",
     "output_type": "stream",
     "text": [
      "D:\\anaconda3\\Lib\\site-packages\\langchain_core\\_api\\deprecation.py:189: LangChainDeprecationWarning: The class `OpenAIEmbeddings` was deprecated in LangChain 0.1.0 and will be removed in 0.2.0. Use langchain_openai.OpenAIEmbeddings instead.\n",
      "  warn_deprecated(\n"
     ]
    }
   ],
   "source": [
    "OPENAI_API_KEY = os.getenv('OPENAI_API_KEY', 'YourAPIKey')\n",
    "embeddings = OpenAIEmbeddings(openai_api_key=OPENAI_API_KEY)"
   ]
  },
  {
   "cell_type": "markdown",
   "id": "7d4750ab",
   "metadata": {},
   "source": [
    "Let's test it out. I want to see which documents are most closely related to a query.\n",
    "\n"
   ]
  },
  {
   "cell_type": "markdown",
   "id": "b73d8504",
   "metadata": {},
   "source": [
    "### Pinecone (a vectorstore in the cloud)\n"
   ]
  },
  {
   "cell_type": "code",
   "execution_count": 29,
   "id": "0e093ef3",
   "metadata": {
    "hide_input": false
   },
   "outputs": [],
   "source": [
    "PINECONE_API_KEY = os.getenv('PINECONE_API_KEY', 'YourAPIKey')\n",
    "PINECONE_ENV = os.getenv('PINECONE_ENV', 'gcp-starter') \n",
    "\n",
    "# initialize pinecone\n",
    "pinecone.init(\n",
    "    api_key=PINECONE_API_KEY,  \n",
    "    environment=PINECONE_ENV  \n",
    ")\n",
    "index_name = \"algaeopenai\" \n",
    "\n",
    "if index_name not in pinecone.list_indexes():\n",
    "    # we create a new index\n",
    "    pinecone.create_index(name=index_name, metric=\"cosine\", dimension=1536)\n",
    "\n",
    "# The OpenAI embedding model `text-embedding-ada-002 uses 1536 dimensions`\n",
    "\n",
    "#docsearch = Pinecone.from_documents(texts, embeddings, index_name=index_name)\n",
    "\n",
    "\n",
    "#already existing index:\n",
    "docsearch = Pinecone.from_existing_index(index_name, embeddings)"
   ]
  },
  {
   "cell_type": "code",
   "execution_count": 30,
   "id": "1f6d8196",
   "metadata": {},
   "outputs": [],
   "source": [
    "index = pinecone.Index(index_name)\n"
   ]
  },
  {
   "cell_type": "code",
   "execution_count": 31,
   "id": "32c75e37",
   "metadata": {},
   "outputs": [
    {
     "data": {
      "text/plain": [
       "{'dimension': 1536,\n",
       " 'index_fullness': 0.15228,\n",
       " 'namespaces': {'': {'vector_count': 15228}},\n",
       " 'total_vector_count': 15228}"
      ]
     },
     "execution_count": 31,
     "metadata": {},
     "output_type": "execute_result"
    }
   ],
   "source": [
    "index.describe_index_stats()"
   ]
  },
  {
   "cell_type": "code",
   "execution_count": 32,
   "id": "ba35a330",
   "metadata": {},
   "outputs": [],
   "source": [
    "text_field = \"text\"  # the metadata field that contains our text\n",
    "\n",
    "# initialize the vector store object\n",
    "vectorstore = Pinecone(\n",
    "    index, embeddings, text_field\n",
    ")"
   ]
  },
  {
   "cell_type": "markdown",
   "id": "3c35dcd9",
   "metadata": {},
   "source": [
    "### Query those docs to get your answer back\n",
    "\n",
    "Great, those are just the docs which should hold our answer. Now we can pass those to a LangChain chain to query the LLM.\n",
    "\n",
    "We could do this manually, but a chain is a convenient helper for us."
   ]
  },
  {
   "cell_type": "code",
   "execution_count": 33,
   "id": "f051337b",
   "metadata": {},
   "outputs": [],
   "source": [
    "from langchain.chat_models import ChatOpenAI\n",
    "from langchain.chains.question_answering import load_qa_chain"
   ]
  },
  {
   "cell_type": "code",
   "execution_count": 34,
   "id": "6b9b1c03",
   "metadata": {},
   "outputs": [],
   "source": [
    "llm = ChatOpenAI(temperature=0, openai_api_key=OPENAI_API_KEY)\n",
    "chain = load_qa_chain(llm, chain_type=\"stuff\")"
   ]
  },
  {
   "cell_type": "code",
   "execution_count": 35,
   "id": "f67ea7c2",
   "metadata": {},
   "outputs": [
    {
     "data": {
      "text/plain": [
       "Document(page_content='Chapter 31\\nWater Is the Ultimate Source of Hydrogen\\nEnergy: Scientiﬁc Citations and Quotations\\nHussein K. Abdel-Aal and Nejat Veziroglu\\nAbstract From the ancient times, mankind has always been aware that all life on\\nearth depends upon water, the principal ingredient of all living cells. Its importancein forming the creation in all of its aspects in general and the living creatures in\\nparticular, as well as human kind, animals, and plants, is evident to all of us. It is\\nhighly important to know that water has played a major role for human kind. When\\nthe Ionian philosopher Thales of Miletus (624–545 BC) replaced the Gods withNatural Laws as the force governing all phenomena; he made water the central\\nelement in his theory.\\nThis chapter addresses the issue that water, besides its indispensable usage by\\nhuman beings in drinking and in everyday life, is the key element in providing lifewith energy, in the form of hydrogen .\\nThe main aim of this work is to shed some light on the relationship between\\nhydrogen, water, and energy. A review of some scientiﬁc unique physical and\\npowerful properties of water is presented. The high speciﬁc heat, caused by\\nhydrogen bonding, is behind the resistance to temperature change. Its availabilityfor mankind made it the standard of the thermometric scale. Next, the work presents\\nto the community of scientists some scientiﬁc citations and quotations that supportour statement that water is the ultimate source of hydrogen energy.\\nNewton, an avid alchemist set forth in De Natura Acidorium, views that all\\nsubstances can be reduced to water. Eventually, hydrogen, one of the components of\\nwater, can be derived from it. What is most amazing is that all of these citations,\\nscientiﬁc statements, and notions had been proven to be in perfect agreement withscience and our modern-day scientiﬁc discoveries that were not known to man1,500 years ago.\\nThis understanding of the use of water in providing energy in the form of\\nhydrogen adds a new dimension to our scientiﬁc thinking that life on earth depends', metadata={'page': 449.0, 'source': 'Algae-Chatbot/978-3-319-17031-2.pdf'})"
      ]
     },
     "execution_count": 35,
     "metadata": {},
     "output_type": "execute_result"
    }
   ],
   "source": [
    "query = \"In the context of hydrogen, what does THEUS stand for?\"\n",
    "docs = vectorstore.similarity_search(query, k=3)\n",
    "docs[2]"
   ]
  },
  {
   "cell_type": "code",
   "execution_count": 36,
   "id": "3dfd2b7d",
   "metadata": {
    "scrolled": true
   },
   "outputs": [
    {
     "name": "stdout",
     "output_type": "stream",
     "text": [
      "User:\n",
      "In the context of hydrogen, what does THEUS stand for?\n",
      "Algaefessor:\n",
      "THEUS stands for Totalized Hydrogen Energy Utilization System.\n",
      "Source: Algae-Chatbot/978-3-319-17031-2.pdf on page: 449\n"
     ]
    }
   ],
   "source": [
    "print('User:')\n",
    "print(query)\n",
    "print(\"Algaefessor:\")\n",
    "print(chain.run(input_documents=docs, question=query))\n",
    "print(f\"Source: {docs[2].metadata['source']} on page: {int(docs[2].metadata['page'])}\")"
   ]
  },
  {
   "cell_type": "code",
   "execution_count": 37,
   "id": "ef7217b3",
   "metadata": {},
   "outputs": [
    {
     "name": "stdout",
     "output_type": "stream",
     "text": [
      "User:\n",
      "What is cyanobacteria and why is it classified as an algae\n",
      "Algaefessor:\n",
      "Cyanobacteria, also known as blue-green algae, are a group of bacteria that have the ability to perform photosynthesis. They are classified as algae because they contain chlorophyll a and related compounds, which are characteristic of algae. Additionally, cyanobacteria share many structural features with bacteria, but their ability to convert atmospheric nitrogen into ammonia and their production of nitrogenous compounds and cyclic polyethers are more similar to algae.\n",
      "Source: Algae-Chatbot/978-3-319-51010-1.pdf on page: 118\n"
     ]
    }
   ],
   "source": [
    "query = \"What is cyanobacteria and why is it classified as an algae\"\n",
    "docs = vectorstore.similarity_search(query, k=3)\n",
    "print('User:')\n",
    "print(query)\n",
    "print(\"Algaefessor:\")\n",
    "print(chain.run(input_documents=docs, question=query))\n",
    "print(f\"Source: {docs[2].metadata['source']} on page: {int(docs[2].metadata['page'])}\")"
   ]
  },
  {
   "cell_type": "code",
   "execution_count": null,
   "id": "7e7d71c9",
   "metadata": {},
   "outputs": [],
   "source": []
  }
 ],
 "metadata": {
  "kernelspec": {
   "display_name": "Python 3",
   "language": "python",
   "name": "python3"
  },
  "language_info": {
   "codemirror_mode": {
    "name": "ipython",
    "version": 3
   },
   "file_extension": ".py",
   "mimetype": "text/x-python",
   "name": "python",
   "nbconvert_exporter": "python",
   "pygments_lexer": "ipython3",
   "version": "3.11.4"
  }
 },
 "nbformat": 4,
 "nbformat_minor": 5
}
